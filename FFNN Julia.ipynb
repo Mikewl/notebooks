{
 "cells": [
  {
   "cell_type": "markdown",
   "metadata": {},
   "source": [
    "# FFNN\n",
    "This trains a classifier for the iris dataset.\n",
    "Initially keras, matplotlib and numpy are imported"
   ]
  },
  {
   "cell_type": "code",
   "execution_count": 1,
   "metadata": {
    "collapsed": false
   },
   "outputs": [],
   "source": [
    "using Plots\n",
    "using MXNet\n",
    "using DataFrames"
   ]
  },
  {
   "cell_type": "markdown",
   "metadata": {},
   "source": [
    "## Opening the csv and splitting into inputs and outputs\n",
    "Using DataFrames for the initial list import simple to see that just column 4 need be selected for the outputs"
   ]
  },
  {
   "cell_type": "code",
   "execution_count": 2,
   "metadata": {
    "collapsed": false
   },
   "outputs": [
    {
     "data": {
      "text/html": [
       "<table class=\"data-frame\"><thead><tr><th></th><th>x1</th><th>x2</th><th>x3</th><th>x4</th><th>x5</th></tr></thead><tbody><tr><th>1</th><td>5.1</td><td>3.5</td><td>1.4</td><td>0.2</td><td>Iris-setosa</td></tr><tr><th>2</th><td>4.9</td><td>3.0</td><td>1.4</td><td>0.2</td><td>Iris-setosa</td></tr><tr><th>3</th><td>4.7</td><td>3.2</td><td>1.3</td><td>0.2</td><td>Iris-setosa</td></tr><tr><th>4</th><td>4.6</td><td>3.1</td><td>1.5</td><td>0.2</td><td>Iris-setosa</td></tr><tr><th>5</th><td>5.0</td><td>3.6</td><td>1.4</td><td>0.2</td><td>Iris-setosa</td></tr><tr><th>6</th><td>5.4</td><td>3.9</td><td>1.7</td><td>0.4</td><td>Iris-setosa</td></tr><tr><th>7</th><td>4.6</td><td>3.4</td><td>1.4</td><td>0.3</td><td>Iris-setosa</td></tr><tr><th>8</th><td>5.0</td><td>3.4</td><td>1.5</td><td>0.2</td><td>Iris-setosa</td></tr><tr><th>9</th><td>4.4</td><td>2.9</td><td>1.4</td><td>0.2</td><td>Iris-setosa</td></tr><tr><th>10</th><td>4.9</td><td>3.1</td><td>1.5</td><td>0.1</td><td>Iris-setosa</td></tr><tr><th>11</th><td>5.4</td><td>3.7</td><td>1.5</td><td>0.2</td><td>Iris-setosa</td></tr><tr><th>12</th><td>4.8</td><td>3.4</td><td>1.6</td><td>0.2</td><td>Iris-setosa</td></tr><tr><th>13</th><td>4.8</td><td>3.0</td><td>1.4</td><td>0.1</td><td>Iris-setosa</td></tr><tr><th>14</th><td>4.3</td><td>3.0</td><td>1.1</td><td>0.1</td><td>Iris-setosa</td></tr><tr><th>15</th><td>5.8</td><td>4.0</td><td>1.2</td><td>0.2</td><td>Iris-setosa</td></tr><tr><th>16</th><td>5.7</td><td>4.4</td><td>1.5</td><td>0.4</td><td>Iris-setosa</td></tr><tr><th>17</th><td>5.4</td><td>3.9</td><td>1.3</td><td>0.4</td><td>Iris-setosa</td></tr><tr><th>18</th><td>5.1</td><td>3.5</td><td>1.4</td><td>0.3</td><td>Iris-setosa</td></tr><tr><th>19</th><td>5.7</td><td>3.8</td><td>1.7</td><td>0.3</td><td>Iris-setosa</td></tr><tr><th>20</th><td>5.1</td><td>3.8</td><td>1.5</td><td>0.3</td><td>Iris-setosa</td></tr><tr><th>21</th><td>5.4</td><td>3.4</td><td>1.7</td><td>0.2</td><td>Iris-setosa</td></tr><tr><th>22</th><td>5.1</td><td>3.7</td><td>1.5</td><td>0.4</td><td>Iris-setosa</td></tr><tr><th>23</th><td>4.6</td><td>3.6</td><td>1.0</td><td>0.2</td><td>Iris-setosa</td></tr><tr><th>24</th><td>5.1</td><td>3.3</td><td>1.7</td><td>0.5</td><td>Iris-setosa</td></tr><tr><th>25</th><td>4.8</td><td>3.4</td><td>1.9</td><td>0.2</td><td>Iris-setosa</td></tr><tr><th>26</th><td>5.0</td><td>3.0</td><td>1.6</td><td>0.2</td><td>Iris-setosa</td></tr><tr><th>27</th><td>5.0</td><td>3.4</td><td>1.6</td><td>0.4</td><td>Iris-setosa</td></tr><tr><th>28</th><td>5.2</td><td>3.5</td><td>1.5</td><td>0.2</td><td>Iris-setosa</td></tr><tr><th>29</th><td>5.2</td><td>3.4</td><td>1.4</td><td>0.2</td><td>Iris-setosa</td></tr><tr><th>30</th><td>4.7</td><td>3.2</td><td>1.6</td><td>0.2</td><td>Iris-setosa</td></tr><tr><th>&vellip;</th><td>&vellip;</td><td>&vellip;</td><td>&vellip;</td><td>&vellip;</td><td>&vellip;</td></tr></tbody></table>"
      ],
      "text/plain": [
       "150×5 DataFrames.DataFrame\n",
       "│ Row │ x1  │ x2  │ x3  │ x4  │ x5               │\n",
       "├─────┼─────┼─────┼─────┼─────┼──────────────────┤\n",
       "│ 1   │ 5.1 │ 3.5 │ 1.4 │ 0.2 │ \"Iris-setosa\"    │\n",
       "│ 2   │ 4.9 │ 3.0 │ 1.4 │ 0.2 │ \"Iris-setosa\"    │\n",
       "│ 3   │ 4.7 │ 3.2 │ 1.3 │ 0.2 │ \"Iris-setosa\"    │\n",
       "│ 4   │ 4.6 │ 3.1 │ 1.5 │ 0.2 │ \"Iris-setosa\"    │\n",
       "│ 5   │ 5.0 │ 3.6 │ 1.4 │ 0.2 │ \"Iris-setosa\"    │\n",
       "│ 6   │ 5.4 │ 3.9 │ 1.7 │ 0.4 │ \"Iris-setosa\"    │\n",
       "│ 7   │ 4.6 │ 3.4 │ 1.4 │ 0.3 │ \"Iris-setosa\"    │\n",
       "│ 8   │ 5.0 │ 3.4 │ 1.5 │ 0.2 │ \"Iris-setosa\"    │\n",
       "│ 9   │ 4.4 │ 2.9 │ 1.4 │ 0.2 │ \"Iris-setosa\"    │\n",
       "│ 10  │ 4.9 │ 3.1 │ 1.5 │ 0.1 │ \"Iris-setosa\"    │\n",
       "│ 11  │ 5.4 │ 3.7 │ 1.5 │ 0.2 │ \"Iris-setosa\"    │\n",
       "⋮\n",
       "│ 139 │ 6.0 │ 3.0 │ 4.8 │ 1.8 │ \"Iris-virginica\" │\n",
       "│ 140 │ 6.9 │ 3.1 │ 5.4 │ 2.1 │ \"Iris-virginica\" │\n",
       "│ 141 │ 6.7 │ 3.1 │ 5.6 │ 2.4 │ \"Iris-virginica\" │\n",
       "│ 142 │ 6.9 │ 3.1 │ 5.1 │ 2.3 │ \"Iris-virginica\" │\n",
       "│ 143 │ 5.8 │ 2.7 │ 5.1 │ 1.9 │ \"Iris-virginica\" │\n",
       "│ 144 │ 6.8 │ 3.2 │ 5.9 │ 2.3 │ \"Iris-virginica\" │\n",
       "│ 145 │ 6.7 │ 3.3 │ 5.7 │ 2.5 │ \"Iris-virginica\" │\n",
       "│ 146 │ 6.7 │ 3.0 │ 5.2 │ 2.3 │ \"Iris-virginica\" │\n",
       "│ 147 │ 6.3 │ 2.5 │ 5.0 │ 1.9 │ \"Iris-virginica\" │\n",
       "│ 148 │ 6.5 │ 3.0 │ 5.2 │ 2.0 │ \"Iris-virginica\" │\n",
       "│ 149 │ 6.2 │ 3.4 │ 5.4 │ 2.3 │ \"Iris-virginica\" │\n",
       "│ 150 │ 5.9 │ 3.0 │ 5.1 │ 1.8 │ \"Iris-virginica\" │"
      ]
     },
     "execution_count": 2,
     "metadata": {},
     "output_type": "execute_result"
    }
   ],
   "source": [
    "df = readtable(\"data.csv\", header=false)"
   ]
  },
  {
   "cell_type": "markdown",
   "metadata": {},
   "source": [
    "# Data preparation\n",
    "Shuffle the data and split it into inputs and outputs where outputs are `(0,0,0)`, `(0,1,0)`, `(0,0,1)` which requires conversion from the strings which will be done via a comprehension and a dictionary to create the array of arrays. This can be turned into a 2D matrix via splatting the output and using hcat where each column is a new input.\n",
    "It is important to note that "
   ]
  },
  {
   "cell_type": "code",
   "execution_count": 3,
   "metadata": {
    "collapsed": false
   },
   "outputs": [],
   "source": [
    "df = df[randperm(size(df)[1]), :]\n",
    "inputs = convert(Array{Float32}, df[1:4])'\n",
    "keydict = Dict(\"Iris-setosa\" => [0,0,0], \"Iris-versicolor\" => [0,1,0], \"Iris-virginica\" => [0,0,1])\n",
    "outputs = Array{Float64}[keydict[key] for key in convert(Array, df[end])]\n",
    "outputs = hcat(outputs...);"
   ]
  },
  {
   "cell_type": "markdown",
   "metadata": {},
   "source": [
    "## Turning raw data into a data provider\n",
    "MXNet uses data providers instead of just allowing raw arrays. This adds a slight complication if you are just using normal arrays of data. However, if you are streaming data or have real-time data, being able to construct your own data provider for the task adds significant power worth the slight annoyance. Unfortunately, via this method there is also no automated split of data as in keras. Your data sets need to be manually split. We will use 20% of the data as validation data.\n",
    "The input and output symbols are where the data providers and the models match together. By using the same symbols the provider will send data from each symbol in the provider to the correspoinding symbol in the model."
   ]
  },
  {
   "cell_type": "code",
   "execution_count": 4,
   "metadata": {
    "collapsed": false
   },
   "outputs": [],
   "source": [
    "split_index = round(Int, size(outputs)[end] * 0.8)\n",
    "batchsize = 5\n",
    "inputSymbol = :input\n",
    "outputSymbol = :output\n",
    "trainprovider = mx.ArrayDataProvider(inputSymbol => inputs[:, 1:split_index], batch_size=batchsize, \n",
    "    shuffle=true, outputSymbol => outputs[:, 1:split_index])\n",
    "evalprovider = mx.ArrayDataProvider(inputSymbol => inputs[:, split_index+1:end], batch_size=batchsize, \n",
    "    shuffle=true, outputSymbol => outputs[:, split_index+1:end]);"
   ]
  },
  {
   "cell_type": "markdown",
   "metadata": {
    "collapsed": true
   },
   "source": [
    "# Setup model\n",
    "For the model there needs to be two variables, the input and the output. You could have more variables depending on if you wanted an auxiliary output or input at a different stage in the model. For this example it will be a plain feedforward model with only single input and output datasets. The inputs and outputs rely on the same symbols beiung used as for the datasets so the data providers know where each part of the data is to be used."
   ]
  },
  {
   "cell_type": "code",
   "execution_count": 5,
   "metadata": {
    "collapsed": false
   },
   "outputs": [],
   "source": [
    "input = mx.Variable(inputSymbol)\n",
    "output = mx.Variable(outputSymbol)\n",
    "mlp = @mx.chain input =>\n",
    "    mx.MLP([7,3]) =>\n",
    "    mx.LogisticRegressionOutput(output)\n",
    "\n",
    "model = mx.FeedForward(mlp, context=mx.cpu());"
   ]
  },
  {
   "cell_type": "markdown",
   "metadata": {},
   "source": [
    "# Setup optimiser\n",
    "Here the optimiser is selected and initialised. The learning rarte is set to be `0.01`. A more complex learning rate would use a scheduler for the learning rate that lowers the learning rate with the number of epochs."
   ]
  },
  {
   "cell_type": "code",
   "execution_count": 6,
   "metadata": {
    "collapsed": false
   },
   "outputs": [],
   "source": [
    "optimiser = mx.SGD();"
   ]
  },
  {
   "cell_type": "markdown",
   "metadata": {},
   "source": [
    "# Fit model\n",
    "Here the training is setup and run. the model, optimiser and training data provider are basic requriements for the `mx.fit` function. the defaults are changed to use the mean squared error for evaluation, including a validation dataset and initialising the neurons between -5,5."
   ]
  },
  {
   "cell_type": "code",
   "execution_count": 7,
   "metadata": {
    "collapsed": false
   },
   "outputs": [],
   "source": [
    "epochmetrics = Float64[]\n",
    "callback = mx.every_n_epoch((x,y,metric) -> push!(epochmetrics, metric[1][2]), 1, call_on_0=false)\n",
    "mx.fit(model, optimiser, trainprovider, eval_data=evalprovider, verbosity=0,\n",
    "    n_epoch=1000, eval_metric=mx.MSE(), initializer=mx.UniformInitializer(1), callbacks=[callback])"
   ]
  },
  {
   "cell_type": "code",
   "execution_count": 8,
   "metadata": {
    "collapsed": false
   },
   "outputs": [
    {
     "data": {
      "text/html": [
       "<img src=\"data:image/png;base64,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\" />"
      ]
     },
     "execution_count": 8,
     "metadata": {},
     "output_type": "execute_result"
    }
   ],
   "source": [
    "plot(epochmetrics)"
   ]
  },
  {
   "cell_type": "markdown",
   "metadata": {},
   "source": [
    "# Testing\n",
    "Finally, compare the predicted outputs to the expected outputs and see the actual real world performance.\n",
    "We create a new data provider which contains the data only then do a simlpe comparison and print the total number of correct values."
   ]
  },
  {
   "cell_type": "code",
   "execution_count": 9,
   "metadata": {
    "collapsed": false
   },
   "outputs": [
    {
     "name": "stderr",
     "output_type": "stream",
     "text": [
      "\u001b[1m\u001b[34mINFO: TempSpace: Total 0 MB allocated on CPU0\n",
      "\u001b[0m"
     ]
    },
    {
     "data": {
      "text/plain": [
       "147"
      ]
     },
     "execution_count": 9,
     "metadata": {},
     "output_type": "execute_result"
    }
   ],
   "source": [
    "inputdata = mx.ArrayDataProvider(inputSymbol => inputs)\n",
    "outs = round(Int, mx.predict(model, inputdata))\n",
    "correct = 0\n",
    "for i = 1:size(outs)[2]\n",
    "    if outs[:,i] == outputs[:,i]\n",
    "        correct += 1\n",
    "    end\n",
    "end\n",
    "correct"
   ]
  },
  {
   "cell_type": "code",
   "execution_count": null,
   "metadata": {
    "collapsed": true
   },
   "outputs": [],
   "source": []
  }
 ],
 "metadata": {
  "kernelspec": {
   "display_name": "Julia 0.5.0",
   "language": "julia",
   "name": "julia-0.5"
  },
  "language_info": {
   "file_extension": ".jl",
   "mimetype": "application/julia",
   "name": "julia",
   "version": "0.5.0"
  }
 },
 "nbformat": 4,
 "nbformat_minor": 2
}
